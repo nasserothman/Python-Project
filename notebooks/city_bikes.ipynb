{
 "cells": [
  {
   "cell_type": "markdown",
   "metadata": {},
   "source": [
    "# CityBikes"
   ]
  },
  {
   "cell_type": "markdown",
   "metadata": {},
   "source": [
    "Send a request to CityBikes for the city of your choice. "
   ]
  },
  {
   "cell_type": "code",
   "execution_count": 52,
   "metadata": {
    "scrolled": true
   },
   "outputs": [],
   "source": [
    "import pandas as pd\n",
    "import requests\n",
    "import pprint\n",
    "\n",
    "pp = pprint.PrettyPrinter(indent=4)\n",
    "\n",
    "# I chose the toronto bikeshare app for this project since I personally use it and have a membership.\n",
    "request_url = f'http://api.citybik.es/v2/networks/bixi-toronto'\n",
    "response = requests.get(request_url, headers={'network': 'location/JSON'}).json()\n",
    "\n",
    "#print(response)\n",
    "\n",
    "# I imported pprint to make the output look better\n",
    "#pp.pprint(response)\n",
    "\n",
    "\n"
   ]
  },
  {
   "cell_type": "markdown",
   "metadata": {},
   "source": [
    "Parse through the response to get the details you want for the bike stations in that city (latitude, longitude, number of bikes). "
   ]
  },
  {
   "cell_type": "markdown",
   "metadata": {},
   "source": [
    "Put your parsed results into a DataFrame."
   ]
  },
  {
   "cell_type": "code",
   "execution_count": 58,
   "metadata": {
    "scrolled": true
   },
   "outputs": [
    {
     "data": {
      "text/html": [
       "<div>\n",
       "<style scoped>\n",
       "    .dataframe tbody tr th:only-of-type {\n",
       "        vertical-align: middle;\n",
       "    }\n",
       "\n",
       "    .dataframe tbody tr th {\n",
       "        vertical-align: top;\n",
       "    }\n",
       "\n",
       "    .dataframe thead th {\n",
       "        text-align: right;\n",
       "    }\n",
       "</style>\n",
       "<table border=\"1\" class=\"dataframe\">\n",
       "  <thead>\n",
       "    <tr style=\"text-align: right;\">\n",
       "      <th></th>\n",
       "      <th>free_bikes</th>\n",
       "      <th>latitude</th>\n",
       "      <th>longitude</th>\n",
       "    </tr>\n",
       "  </thead>\n",
       "  <tbody>\n",
       "    <tr>\n",
       "      <th>0</th>\n",
       "      <td>15</td>\n",
       "      <td>43.665269</td>\n",
       "      <td>-79.319796</td>\n",
       "    </tr>\n",
       "    <tr>\n",
       "      <th>1</th>\n",
       "      <td>0</td>\n",
       "      <td>43.671420</td>\n",
       "      <td>-79.445947</td>\n",
       "    </tr>\n",
       "    <tr>\n",
       "      <th>2</th>\n",
       "      <td>11</td>\n",
       "      <td>43.666224</td>\n",
       "      <td>-79.317693</td>\n",
       "    </tr>\n",
       "    <tr>\n",
       "      <th>3</th>\n",
       "      <td>0</td>\n",
       "      <td>43.653236</td>\n",
       "      <td>-79.376716</td>\n",
       "    </tr>\n",
       "    <tr>\n",
       "      <th>4</th>\n",
       "      <td>5</td>\n",
       "      <td>43.663722</td>\n",
       "      <td>-79.380288</td>\n",
       "    </tr>\n",
       "    <tr>\n",
       "      <th>...</th>\n",
       "      <td>...</td>\n",
       "      <td>...</td>\n",
       "      <td>...</td>\n",
       "    </tr>\n",
       "    <tr>\n",
       "      <th>664</th>\n",
       "      <td>5</td>\n",
       "      <td>43.637894</td>\n",
       "      <td>-79.454823</td>\n",
       "    </tr>\n",
       "    <tr>\n",
       "      <th>665</th>\n",
       "      <td>9</td>\n",
       "      <td>43.652508</td>\n",
       "      <td>-79.465423</td>\n",
       "    </tr>\n",
       "    <tr>\n",
       "      <th>666</th>\n",
       "      <td>5</td>\n",
       "      <td>43.653527</td>\n",
       "      <td>-79.465057</td>\n",
       "    </tr>\n",
       "    <tr>\n",
       "      <th>667</th>\n",
       "      <td>7</td>\n",
       "      <td>43.652686</td>\n",
       "      <td>-79.358395</td>\n",
       "    </tr>\n",
       "    <tr>\n",
       "      <th>668</th>\n",
       "      <td>6</td>\n",
       "      <td>43.666851</td>\n",
       "      <td>-79.381146</td>\n",
       "    </tr>\n",
       "  </tbody>\n",
       "</table>\n",
       "<p>669 rows × 3 columns</p>\n",
       "</div>"
      ],
      "text/plain": [
       "     free_bikes   latitude  longitude\n",
       "0            15  43.665269 -79.319796\n",
       "1             0  43.671420 -79.445947\n",
       "2            11  43.666224 -79.317693\n",
       "3             0  43.653236 -79.376716\n",
       "4             5  43.663722 -79.380288\n",
       "..          ...        ...        ...\n",
       "664           5  43.637894 -79.454823\n",
       "665           9  43.652508 -79.465423\n",
       "666           5  43.653527 -79.465057\n",
       "667           7  43.652686 -79.358395\n",
       "668           6  43.666851 -79.381146\n",
       "\n",
       "[669 rows x 3 columns]"
      ]
     },
     "execution_count": 58,
     "metadata": {},
     "output_type": "execute_result"
    }
   ],
   "source": [
    "# Extract the 'stations' data from the response\n",
    "stations_data = response['network']['stations']\n",
    "\n",
    "#Keeping the three columns Latitude, Longitude and number of bikes\n",
    "columns_to_keep = ['free_bikes', 'latitude', 'longitude']\n",
    "\n",
    "# Create a DataFrame from the 'stations' data\n",
    "df1 = pd.DataFrame(stations_data, columns=columns_to_keep)\n",
    "\n",
    "# This prints all the bike stations in toronto and shows the number of bikes, latitude and longitude.\n",
    "#I used df.head() to show the data in a tabular format.\n",
    "\n",
    "#print(df)\n",
    "df1.head(670)"
   ]
  },
  {
   "cell_type": "code",
   "execution_count": null,
   "metadata": {},
   "outputs": [],
   "source": []
  },
  {
   "cell_type": "code",
   "execution_count": null,
   "metadata": {},
   "outputs": [],
   "source": []
  }
 ],
 "metadata": {
  "kernelspec": {
   "display_name": "Python 3 (ipykernel)",
   "language": "python",
   "name": "python3"
  },
  "language_info": {
   "codemirror_mode": {
    "name": "ipython",
    "version": 3
   },
   "file_extension": ".py",
   "mimetype": "text/x-python",
   "name": "python",
   "nbconvert_exporter": "python",
   "pygments_lexer": "ipython3",
   "version": "3.10.9"
  }
 },
 "nbformat": 4,
 "nbformat_minor": 4
}
