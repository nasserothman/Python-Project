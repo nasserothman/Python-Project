{
 "cells": [
  {
   "cell_type": "markdown",
   "metadata": {},
   "source": [
    "# Foursquare"
   ]
  },
  {
   "cell_type": "markdown",
   "metadata": {},
   "source": [
    "Send a request to Foursquare with a small radius (1000m) for all the bike stations in your city of choice. "
   ]
  },
  {
   "cell_type": "code",
   "execution_count": 2,
   "metadata": {},
   "outputs": [],
   "source": [
    "# imports\n",
    "import pandas as pd\n",
    "import requests\n",
    "import pprint"
   ]
  },
  {
   "cell_type": "markdown",
   "metadata": {},
   "source": [
    "Parse through the response to get the POI (such as restaurants, bars, etc) details you want (ratings, name, location, etc)"
   ]
  },
  {
   "cell_type": "markdown",
   "metadata": {},
   "source": [
    "Put your parsed results into a DataFrame"
   ]
  },
  {
   "cell_type": "code",
   "execution_count": 3,
   "metadata": {},
   "outputs": [
    {
     "ename": "NameError",
     "evalue": "name 'df2' is not defined",
     "output_type": "error",
     "traceback": [
      "\u001b[1;31m---------------------------------------------------------------------------\u001b[0m",
      "\u001b[1;31mNameError\u001b[0m                                 Traceback (most recent call last)",
      "Cell \u001b[1;32mIn[3], line 7\u001b[0m\n\u001b[0;32m      3\u001b[0m desired_columns \u001b[38;5;241m=\u001b[39m [ \u001b[38;5;124m'\u001b[39m\u001b[38;5;124mname\u001b[39m\u001b[38;5;124m'\u001b[39m,\u001b[38;5;124m'\u001b[39m\u001b[38;5;124mlocation\u001b[39m\u001b[38;5;124m'\u001b[39m, \u001b[38;5;124m'\u001b[39m\u001b[38;5;124mdistance\u001b[39m\u001b[38;5;124m'\u001b[39m, \u001b[38;5;124m'\u001b[39m\u001b[38;5;124mcategories\u001b[39m\u001b[38;5;124m'\u001b[39m]\n\u001b[0;32m      5\u001b[0m Foursquare_df \u001b[38;5;241m=\u001b[39m pd\u001b[38;5;241m.\u001b[39mDataFrame()\n\u001b[1;32m----> 7\u001b[0m \u001b[38;5;28;01mfor\u001b[39;00m n \u001b[38;5;129;01min\u001b[39;00m \u001b[38;5;28mrange\u001b[39m(\u001b[38;5;28mlen\u001b[39m(\u001b[43mdf2\u001b[49m)):\n\u001b[0;32m      8\u001b[0m     name \u001b[38;5;241m=\u001b[39m df2\u001b[38;5;241m.\u001b[39mat[n, \u001b[38;5;124m'\u001b[39m\u001b[38;5;124mname\u001b[39m\u001b[38;5;124m'\u001b[39m]\n\u001b[0;32m      9\u001b[0m     lat \u001b[38;5;241m=\u001b[39m df2\u001b[38;5;241m.\u001b[39mat[n, \u001b[38;5;124m'\u001b[39m\u001b[38;5;124mlatitude\u001b[39m\u001b[38;5;124m'\u001b[39m]\n",
      "\u001b[1;31mNameError\u001b[0m: name 'df2' is not defined"
     ]
    }
   ],
   "source": [
    "#Foursqaure API\n",
    "#the df2 is from the citybikes api notebook\n",
    "\n",
    "desired_columns = [ 'name','location', 'distance', 'categories']\n",
    "\n",
    "Foursquare_df = pd.DataFrame()\n",
    "\n",
    "for n in range(len(df2)):\n",
    "    name = df2.at[n, 'name']\n",
    "    lat = df2.at[n, 'latitude']\n",
    "    long = df2.at[n, 'longitude']\n",
    "    free_bikes = df2.at[n, 'free_bikes']\n",
    "    print(\"Station Name:\", name, \"lat:\", lat, \"long:\", long, \"Number of free bikes are:\", free_bikes)\n",
    "    url = f\"https://api.foursquare.com/v3/places/search?ll={lat}%2C{long}&radius=1000&categories=13064%2C%2013003%2C%2013035%2C%2017114\"\n",
    "\n",
    "    headers = {\n",
    "        \"accept\": \"application/json\",\n",
    "        \"Authorization\": \"fsq3cuGuLM7++Sr0VNnxkYSDqztfsV3G2yYo4Q1uEwUXYpM= \"\n",
    "    }\n",
    "\n",
    "    response = requests.get(url, headers=headers)\n",
    "\n",
    "\n",
    "    data = response.json()\n",
    "    POI_data = data['results']\n",
    "    df3 = pd.DataFrame(POI_data)\n",
    "    df3['location'] = df3['location'].apply(lambda loc: loc['address'])\n",
    "    df3['categories'] = df3['categories'].apply(lambda x: x[0]['name'] if x else '')\n",
    "    df3['bike_station_name'] = name\n",
    "    df3['Latitude'] = lat\n",
    "    df3['Longitude'] = long\n",
    "    df3['bike_station_coordinates'] = df3['Latitude'].astype(str) + ', ' + df3['Longitude'].astype(str)\n",
    "    \n",
    "\n",
    "\n",
    "    selected_columns = df3[desired_columns]\n",
    "    display(selected_columns.head())\n",
    "    Foursquare_df = pd.concat([Foursquare_df,df3])\n"
   ]
  },
  {
   "cell_type": "code",
   "execution_count": 18,
   "metadata": {},
   "outputs": [
    {
     "data": {
      "text/html": [
       "<div>\n",
       "<style scoped>\n",
       "    .dataframe tbody tr th:only-of-type {\n",
       "        vertical-align: middle;\n",
       "    }\n",
       "\n",
       "    .dataframe tbody tr th {\n",
       "        vertical-align: top;\n",
       "    }\n",
       "\n",
       "    .dataframe thead th {\n",
       "        text-align: right;\n",
       "    }\n",
       "</style>\n",
       "<table border=\"1\" class=\"dataframe\">\n",
       "  <thead>\n",
       "    <tr style=\"text-align: right;\">\n",
       "      <th></th>\n",
       "      <th>fsq_id</th>\n",
       "      <th>categories</th>\n",
       "      <th>chains</th>\n",
       "      <th>distance</th>\n",
       "      <th>geocodes</th>\n",
       "      <th>link</th>\n",
       "      <th>location</th>\n",
       "      <th>name</th>\n",
       "      <th>related_places</th>\n",
       "      <th>timezone</th>\n",
       "    </tr>\n",
       "  </thead>\n",
       "  <tbody>\n",
       "    <tr>\n",
       "      <th>0</th>\n",
       "      <td>59a3453f9ef8ef6b297a2b9a</td>\n",
       "      <td>[{'id': 13334, 'name': 'Sandwich Spot', 'icon'...</td>\n",
       "      <td>[{'id': 'ab4bee40-d68a-012e-5619-003048cad9da'...</td>\n",
       "      <td>815</td>\n",
       "      <td>{'drop_off': {'latitude': 43.622086, 'longitud...</td>\n",
       "      <td>/v3/places/59a3453f9ef8ef6b297a2b9a</td>\n",
       "      <td>{'address': '57 of the Islands Ave', 'address_...</td>\n",
       "      <td>Subway</td>\n",
       "      <td>{}</td>\n",
       "      <td>America/Toronto</td>\n",
       "    </tr>\n",
       "    <tr>\n",
       "      <th>1</th>\n",
       "      <td>5ed2afd0ece8810008e4a3ca</td>\n",
       "      <td>[{'id': 13334, 'name': 'Sandwich Spot', 'icon'...</td>\n",
       "      <td>[{'id': 'ab4bee40-d68a-012e-5619-003048cad9da'...</td>\n",
       "      <td>816</td>\n",
       "      <td>{'drop_off': {'latitude': 43.622141, 'longitud...</td>\n",
       "      <td>/v3/places/5ed2afd0ece8810008e4a3ca</td>\n",
       "      <td>{'address': '102 Center Island', 'country': 'C...</td>\n",
       "      <td>Subway</td>\n",
       "      <td>{}</td>\n",
       "      <td>America/Toronto</td>\n",
       "    </tr>\n",
       "    <tr>\n",
       "      <th>2</th>\n",
       "      <td>59b5a769e2ead104a199e407</td>\n",
       "      <td>[{'id': 13026, 'name': 'BBQ Joint', 'icon': {'...</td>\n",
       "      <td>[]</td>\n",
       "      <td>874</td>\n",
       "      <td>{'main': {'latitude': 43.623337, 'longitude': ...</td>\n",
       "      <td>/v3/places/59b5a769e2ead104a199e407</td>\n",
       "      <td>{'address': '30 Ctr Island Pk', 'country': 'CA...</td>\n",
       "      <td>Toronto Island Bbq &amp; Beer</td>\n",
       "      <td>{}</td>\n",
       "      <td>America/Toronto</td>\n",
       "    </tr>\n",
       "    <tr>\n",
       "      <th>3</th>\n",
       "      <td>4dfbe12dd164848a03f3cdd9</td>\n",
       "      <td>[{'id': 10032, 'name': 'Night Club', 'icon': {...</td>\n",
       "      <td>[]</td>\n",
       "      <td>195</td>\n",
       "      <td>{'main': {'latitude': 43.623465, 'longitude': ...</td>\n",
       "      <td>/v3/places/4dfbe12dd164848a03f3cdd9</td>\n",
       "      <td>{'address': '2 Muggs Island Pk', 'country': 'C...</td>\n",
       "      <td>Island Yacht Club</td>\n",
       "      <td>{}</td>\n",
       "      <td>America/Toronto</td>\n",
       "    </tr>\n",
       "  </tbody>\n",
       "</table>\n",
       "</div>"
      ],
      "text/plain": [
       "                     fsq_id  \\\n",
       "0  59a3453f9ef8ef6b297a2b9a   \n",
       "1  5ed2afd0ece8810008e4a3ca   \n",
       "2  59b5a769e2ead104a199e407   \n",
       "3  4dfbe12dd164848a03f3cdd9   \n",
       "\n",
       "                                          categories  \\\n",
       "0  [{'id': 13334, 'name': 'Sandwich Spot', 'icon'...   \n",
       "1  [{'id': 13334, 'name': 'Sandwich Spot', 'icon'...   \n",
       "2  [{'id': 13026, 'name': 'BBQ Joint', 'icon': {'...   \n",
       "3  [{'id': 10032, 'name': 'Night Club', 'icon': {...   \n",
       "\n",
       "                                              chains  distance  \\\n",
       "0  [{'id': 'ab4bee40-d68a-012e-5619-003048cad9da'...       815   \n",
       "1  [{'id': 'ab4bee40-d68a-012e-5619-003048cad9da'...       816   \n",
       "2                                                 []       874   \n",
       "3                                                 []       195   \n",
       "\n",
       "                                            geocodes  \\\n",
       "0  {'drop_off': {'latitude': 43.622086, 'longitud...   \n",
       "1  {'drop_off': {'latitude': 43.622141, 'longitud...   \n",
       "2  {'main': {'latitude': 43.623337, 'longitude': ...   \n",
       "3  {'main': {'latitude': 43.623465, 'longitude': ...   \n",
       "\n",
       "                                  link  \\\n",
       "0  /v3/places/59a3453f9ef8ef6b297a2b9a   \n",
       "1  /v3/places/5ed2afd0ece8810008e4a3ca   \n",
       "2  /v3/places/59b5a769e2ead104a199e407   \n",
       "3  /v3/places/4dfbe12dd164848a03f3cdd9   \n",
       "\n",
       "                                            location  \\\n",
       "0  {'address': '57 of the Islands Ave', 'address_...   \n",
       "1  {'address': '102 Center Island', 'country': 'C...   \n",
       "2  {'address': '30 Ctr Island Pk', 'country': 'CA...   \n",
       "3  {'address': '2 Muggs Island Pk', 'country': 'C...   \n",
       "\n",
       "                        name related_places         timezone  \n",
       "0                     Subway             {}  America/Toronto  \n",
       "1                     Subway             {}  America/Toronto  \n",
       "2  Toronto Island Bbq & Beer             {}  America/Toronto  \n",
       "3          Island Yacht Club             {}  America/Toronto  "
      ]
     },
     "execution_count": 18,
     "metadata": {},
     "output_type": "execute_result"
    }
   ],
   "source": []
  },
  {
   "cell_type": "code",
   "execution_count": 3,
   "metadata": {},
   "outputs": [
    {
     "name": "stdout",
     "output_type": "stream",
     "text": [
      "Requirement already satisfied: nbmerge in c:\\users\\nas76\\anaconda3\\lib\\site-packages (0.0.4)\n"
     ]
    }
   ],
   "source": [
    "\n"
   ]
  },
  {
   "cell_type": "code",
   "execution_count": null,
   "metadata": {},
   "outputs": [],
   "source": []
  },
  {
   "cell_type": "code",
   "execution_count": null,
   "metadata": {},
   "outputs": [],
   "source": []
  },
  {
   "cell_type": "markdown",
   "metadata": {},
   "source": [
    "# Yelp"
   ]
  },
  {
   "cell_type": "markdown",
   "metadata": {},
   "source": [
    "Send a request to Yelp with a small radius (1000m) for all the bike stations in your city of choice. "
   ]
  },
  {
   "cell_type": "markdown",
   "metadata": {},
   "source": [
    "Parse through the response to get the POI (such as restaurants, bars, etc) details you want (ratings, name, location, etc)"
   ]
  },
  {
   "cell_type": "markdown",
   "metadata": {},
   "source": [
    "Put your parsed results into a DataFrame"
   ]
  },
  {
   "cell_type": "markdown",
   "metadata": {},
   "source": []
  },
  {
   "cell_type": "code",
   "execution_count": null,
   "metadata": {},
   "outputs": [],
   "source": [
    "\n",
    "\n",
    "Yelp_columns = ['name', 'distance', 'location', 'POI_category']\n",
    "\n",
    "yelp_dataframe = pd.DataFrame()\n",
    "\n",
    "for n in range(len(df2)):\n",
    "    name = df2.at[n, 'name']\n",
    "    lat = df2.at[n, 'latitude']\n",
    "    long = df2.at[n, 'longitude']\n",
    "    free_bikes = df2.at[n, 'free_bikes']\n",
    "    print(\"Station Name:\", name, \"lat:\", lat, \"long:\", long, \"Number of free bikes are:\", free_bikes)\n",
    "    \n",
    "    url = f\"https://api.yelp.com/v3/businesses/search?latitude={lat}&longitude={long}&radius=1000&categories=breakfast_brunch%2Ccoffee%2Cgrocery&sort_by=best_match&limit=20\"\n",
    "\n",
    "    yelp_api = \"FSvkEvmyTcQX-tZRriVc9iP4Rjcf0EJwIvhK55IsbwZxCMG1KAkxC-M4xCJGJhywt_56Uz3jOIHr8rz_dbsL5hQoKsJVu0EDDLi7T5xUpMUc1UR4s1Gwb31cmz2gZHYx\"\n",
    "    headers = {\n",
    "        \"accept\": \"application/json\",\n",
    "        \"Authorization\": f\"bearer {yelp_api}\"\n",
    "    }\n",
    "\n",
    "    response = requests.get(url, headers=headers)\n",
    "    data = response.json()\n",
    "\n",
    "    # Extracting relevant information from the response data\n",
    "    yelp_POI = data['businesses']\n",
    "    yelp_df = pd.DataFrame(yelp_POI)\n",
    "    yelp_df['location'] = yelp_df['location'].apply(lambda loc: loc['address1'])\n",
    "    yelp_df['bike_station_name'] = name\n",
    "    yelp_df['Latitude'] = lat\n",
    "    yelp_df['Longitude'] = long\n",
    "    yelp_df['POI_category'] = yelp_df['categories'].apply(lambda x: x[0]['title'] if len(x) > 0 else \"\")\n",
    "    yelp_df['bike_station_coordinates'] = yelp_df['Latitude'].astype(str) + ', ' + yelp_df['Longitude'].astype(str)\n",
    "    \n",
    "    Yelp_selected_columns = yelp_df[Yelp_columns]\n",
    "    display(Yelp_selected_columns.head())\n",
    "    yelp_dataframe = pd.concat([yelp_dataframe, yelp_df])\n",
    "    \n",
    "\n",
    "            \n",
    "        "
   ]
  },
  {
   "cell_type": "code",
   "execution_count": null,
   "metadata": {},
   "outputs": [],
   "source": []
  },
  {
   "cell_type": "markdown",
   "metadata": {},
   "source": [
    "# Comparing Results"
   ]
  },
  {
   "cell_type": "markdown",
   "metadata": {},
   "source": [
    "Which API provided you with more complete data? Provide an explanation. "
   ]
  },
  {
   "cell_type": "markdown",
   "metadata": {},
   "source": []
  },
  {
   "cell_type": "markdown",
   "metadata": {},
   "source": [
    "Get the top 10 restaurants according to their rating"
   ]
  },
  {
   "cell_type": "code",
   "execution_count": null,
   "metadata": {},
   "outputs": [],
   "source": [
    "'''Yelp gives you more information about the POI since the website allows users to rate the POI. It provides the ratings and the number \n",
    "of ratings. This is much more convenient since it can show you the most top rated POI categories we have chosen next to a bike station in toronto'''"
   ]
  },
  {
   "cell_type": "code",
   "execution_count": null,
   "metadata": {},
   "outputs": [],
   "source": []
  }
 ],
 "metadata": {
  "kernelspec": {
   "display_name": "Python 3 (ipykernel)",
   "language": "python",
   "name": "python3"
  },
  "language_info": {
   "codemirror_mode": {
    "name": "ipython",
    "version": 3
   },
   "file_extension": ".py",
   "mimetype": "text/x-python",
   "name": "python",
   "nbconvert_exporter": "python",
   "pygments_lexer": "ipython3",
   "version": "3.10.9"
  }
 },
 "nbformat": 4,
 "nbformat_minor": 4
}
