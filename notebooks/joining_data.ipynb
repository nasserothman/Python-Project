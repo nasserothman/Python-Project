{
 "cells": [
  {
   "cell_type": "markdown",
   "metadata": {},
   "source": [
    "Join the data from Part 1 with the data from Part 2 to create a new dataframe."
   ]
  },
  {
   "cell_type": "markdown",
   "metadata": {},
   "source": [
    "Provide a visualization that you used as part of your EDA process. Explain the initial pattern or relationship you discoved through this visualization. "
   ]
  },
  {
   "cell_type": "code",
   "execution_count": null,
   "metadata": {},
   "outputs": [],
   "source": [
    "#Foursqaure API\n",
    "\n",
    "desired_columns = [ 'name','location', 'distance', 'categories']\n",
    "\n",
    "Foursquare_df = pd.DataFrame()\n",
    "\n",
    "for n in range(len(df2)):\n",
    "    name = df2.at[n, 'name']\n",
    "    lat = df2.at[n, 'latitude']\n",
    "    long = df2.at[n, 'longitude']\n",
    "    free_bikes = df2.at[n, 'free_bikes']\n",
    "    print(\"Station Name:\", name, \"lat:\", lat, \"long:\", long, \"Number of free bikes are:\", free_bikes)\n",
    "    url = f\"https://api.foursquare.com/v3/places/search?ll={lat}%2C{long}&radius=1000&categories=13064%2C%2013003%2C%2013035%2C%2017114\"\n",
    "\n",
    "    headers = {\n",
    "        \"accept\": \"application/json\",\n",
    "        \"Authorization\": \"fsq3cuGuLM7++Sr0VNnxkYSDqztfsV3G2yYo4Q1uEwUXYpM= \"\n",
    "    }\n",
    "\n",
    "    response = requests.get(url, headers=headers)\n",
    "\n",
    "\n",
    "    data = response.json()\n",
    "    POI_data = data['results']\n",
    "    df3 = pd.DataFrame(POI_data)\n",
    "    df3['location'] = df3['location'].apply(lambda loc: loc['address'])\n",
    "    df3['categories'] = df3['categories'].apply(lambda x: x[0]['name'] if x else '')\n",
    "    df3['bike_station_name'] = name\n",
    "    df3['Latitude'] = lat\n",
    "    df3['Longitude'] = long\n",
    "    df3['bike_station_coordinates'] = df3['Latitude'].astype(str) + ', ' + df3['Longitude'].astype(str)\n",
    "    \n",
    "\n",
    "\n",
    "    selected_columns = df3[desired_columns]\n",
    "    display(selected_columns.head())\n",
    "    Foursquare_df = pd.concat([Foursquare_df,df3])\n"
   ]
  },
  {
   "cell_type": "code",
   "execution_count": null,
   "metadata": {},
   "outputs": [],
   "source": [
    "#put inplace=true to put changes on the original df\n",
    "Foursquare_df.reset_index(inplace=True)"
   ]
  },
  {
   "cell_type": "code",
   "execution_count": null,
   "metadata": {},
   "outputs": [],
   "source": [
    "Foursquare_df"
   ]
  },
  {
   "cell_type": "code",
   "execution_count": null,
   "metadata": {},
   "outputs": [],
   "source": [
    "#Yelp API merged with citybikes API"
   ]
  },
  {
   "cell_type": "code",
   "execution_count": null,
   "metadata": {},
   "outputs": [],
   "source": [
    "\n",
    "Yelp_columns = ['name', 'distance', 'location', 'POI_category']\n",
    "\n",
    "yelp_dataframe = pd.DataFrame()\n",
    "\n",
    "for n in range(len(df2)):\n",
    "    name = df2.at[n, 'name']\n",
    "    lat = df2.at[n, 'latitude']\n",
    "    long = df2.at[n, 'longitude']\n",
    "    free_bikes = df2.at[n, 'free_bikes']\n",
    "    print(\"Station Name:\", name, \"lat:\", lat, \"long:\", long, \"Number of free bikes are:\", free_bikes)\n",
    "    \n",
    "    url = f\"https://api.yelp.com/v3/businesses/search?latitude={lat}&longitude={long}&radius=1000&categories=breakfast_brunch%2Ccoffee%2Cgrocery&sort_by=best_match&limit=20\"\n",
    "\n",
    "    yelp_api = \"FSvkEvmyTcQX-tZRriVc9iP4Rjcf0EJwIvhK55IsbwZxCMG1KAkxC-M4xCJGJhywt_56Uz3jOIHr8rz_dbsL5hQoKsJVu0EDDLi7T5xUpMUc1UR4s1Gwb31cmz2gZHYx\"\n",
    "    headers = {\n",
    "        \"accept\": \"application/json\",\n",
    "        \"Authorization\": f\"bearer {yelp_api}\"\n",
    "    }\n",
    "\n",
    "    response = requests.get(url, headers=headers)\n",
    "    data = response.json()\n",
    "\n",
    "    # Extracting relevant information from the response data\n",
    "    yelp_POI = data['businesses']\n",
    "    yelp_df = pd.DataFrame(yelp_POI)\n",
    "    yelp_df['location'] = yelp_df['location'].apply(lambda loc: loc['address1'])\n",
    "    yelp_df['bike_station_name'] = name\n",
    "    yelp_df['Latitude'] = lat\n",
    "    yelp_df['Longitude'] = long\n",
    "    yelp_df['POI_category'] = yelp_df['categories'].apply(lambda x: x[0]['title'] if len(x) > 0 else \"\")\n",
    "    yelp_df['bike_station_coordinates'] = yelp_df['Latitude'].astype(str) + ', ' + yelp_df['Longitude'].astype(str)\n",
    "    \n",
    "    Yelp_selected_columns = yelp_df[Yelp_columns]\n",
    "    display(Yelp_selected_columns.head())\n",
    "    yelp_dataframe = pd.concat([yelp_dataframe, yelp_df])\n",
    "    \n"
   ]
  },
  {
   "cell_type": "code",
   "execution_count": null,
   "metadata": {},
   "outputs": [],
   "source": [
    "yelp_dataframe.reset_index(inplace=True)"
   ]
  },
  {
   "cell_type": "code",
   "execution_count": null,
   "metadata": {},
   "outputs": [],
   "source": [
    "yelp_dataframe.to_csv(r'C:\\Users\\nas76\\Python-Project\\notebooks\\yelp1.csv', index=False)"
   ]
  },
  {
   "cell_type": "code",
   "execution_count": null,
   "metadata": {},
   "outputs": [],
   "source": [
    "yelp_dataframe"
   ]
  },
  {
   "cell_type": "code",
   "execution_count": null,
   "metadata": {},
   "outputs": [],
   "source": [
    "'''   \n",
    " Compare the quality of the Yelp and Foursquare API. For your location, \n",
    " which API gives you the most complete information/better coverage? \n",
    " NOTE: Your definition of 'coverage' is up to you. It could be simple 'number of POIs in the area', \n",
    " but it could also be something more specific like 'number of reviews per POI', or 'number of different attributes of each POI'.\n",
    "\n",
    "Yelp gives you more information about the POI since the website allows users to rate the POI. It provides the ratings and the number \n",
    "of ratings. This is much more convenient since it can show you the most top rated POI categories we have chosen next to a bike station in toronto''' "
   ]
  },
  {
   "cell_type": "code",
   "execution_count": null,
   "metadata": {},
   "outputs": [],
   "source": [
    "\n",
    "# Merge the dataframes\n",
    "merged_dfs = pd.merge(Foursquare_df, yelp_dataframe, on='bike_station_coordinates', how='inner')\n",
    "\n",
    "# Save merged dataframe to CSV\n",
    "merged_dfs.to_csv(r'C:\\Users\\nas76\\Python-Project\\merged_data_updated.csv', index=False)\n",
    "\n"
   ]
  },
  {
   "cell_type": "markdown",
   "metadata": {},
   "source": [
    "# Database"
   ]
  },
  {
   "cell_type": "markdown",
   "metadata": {},
   "source": [
    "Put all your results in an SQLite3 database (remember, SQLite stores its databases as files in your local machine - make sure to create your database in your project's data/ directory!)"
   ]
  },
  {
   "cell_type": "code",
   "execution_count": null,
   "metadata": {},
   "outputs": [],
   "source": [
    "import sqlite3\n",
    "import pandas as pd\n",
    "\n",
    "conn = sqlite3.connect('yelp_poi_database.db')\n",
    "yelp_table_schema = \"\"\"\n",
    "CREATE TABLE IF NOT EXISTS yelp_pois (\n",
    "    id INTEGER PRIMARY KEY AUTOINCREMENT,\n",
    "    name TEXT,\n",
    "    distance REAL,\n",
    "    location TEXT,\n",
    "    poi_category TEXT,\n",
    "    bike_station_name TEXT,\n",
    "    latitude REAL,\n",
    "    longitude REAL,\n",
    "    bike_station_coordinates TEXT\n",
    ");\n",
    "\"\"\""
   ]
  },
  {
   "cell_type": "code",
   "execution_count": null,
   "metadata": {},
   "outputs": [],
   "source": [
    "import sqlite3\n",
    "import pandas as pd\n",
    "\n",
    "conn = sqlite3.connect('foursqaure_poi_database.db')\n",
    "\n",
    "foursquare_table_schema = \"\"\"\n",
    "CREATE TABLE IF NOT EXISTS foursquare_pois (\n",
    "    id INTEGER PRIMARY KEY AUTOINCREMENT,\n",
    "    name TEXT,\n",
    "    location TEXT,\n",
    "    distance REAL,\n",
    "    categories TEXT,\n",
    "    bike_station_name TEXT,\n",
    "    latitude REAL,\n",
    "    longitude REAL,\n",
    "    bike_station_coordinates TEXT\n",
    ");\n",
    "\"\"\""
   ]
  },
  {
   "cell_type": "markdown",
   "metadata": {},
   "source": [
    "Look at the data before and after the join to validate your data."
   ]
  },
  {
   "cell_type": "code",
   "execution_count": null,
   "metadata": {},
   "outputs": [],
   "source": []
  }
 ],
 "metadata": {
  "kernelspec": {
   "display_name": "Python 3 (ipykernel)",
   "language": "python",
   "name": "python3"
  },
  "language_info": {
   "codemirror_mode": {
    "name": "ipython",
    "version": 3
   },
   "file_extension": ".py",
   "mimetype": "text/x-python",
   "name": "python",
   "nbconvert_exporter": "python",
   "pygments_lexer": "ipython3",
   "version": "3.10.9"
  }
 },
 "nbformat": 4,
 "nbformat_minor": 4
}
