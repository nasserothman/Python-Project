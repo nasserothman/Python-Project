{
 "cells": [
  {
   "cell_type": "markdown",
   "metadata": {},
   "source": [
    "Build a regression model."
   ]
  },
  {
   "cell_type": "markdown",
   "metadata": {},
   "source": [
    "Provide model output and an interpretation of the results. "
   ]
  },
  {
   "cell_type": "code",
   "execution_count": null,
   "metadata": {},
   "outputs": [],
   "source": [
    "import matplotlib.pyplot as plt\n",
    "\n",
    "# Count the number of businesses in each category\n",
    "category_counts = yelp_dataframe['POI_category'].value_counts()\n",
    "\n",
    "# Plot the bar chart\n",
    "plt.bar(category_counts.index, category_counts.values)\n",
    "\n",
    "# Set chart title and labels\n",
    "plt.title('Businesses by Yelp Category')\n",
    "plt.xlabel('Category')\n",
    "plt.ylabel('Count')\n",
    "\n",
    "# Rotate x-axis labels if needed\n",
    "plt.xticks(rotation=90)\n",
    "\n",
    "# Adjust plot layout if needed\n",
    "plt.tight_layout()\n",
    "\n",
    "# Display the chart\n",
    "plt.show()"
   ]
  },
  {
   "cell_type": "code",
   "execution_count": null,
   "metadata": {},
   "outputs": [],
   "source": [
    "import matplotlib.pyplot as plt\n",
    "\n",
    "# Count the number of businesses in each category\n",
    "category_counts = Foursquare_df['categories'].value_counts()\n",
    "\n",
    "# Plot the bar chart\n",
    "plt.bar(category_counts.index, category_counts.values)\n",
    "\n",
    "# Set chart title and labels\n",
    "plt.title('Businesses by Foursqaure Category')\n",
    "plt.xlabel('Category')\n",
    "plt.ylabel('Count')\n",
    "\n",
    "# Rotate x-axis labels if needed\n",
    "plt.xticks(rotation=90)\n",
    "\n",
    "# Adjust plot layout if needed\n",
    "plt.tight_layout()\n",
    "\n",
    "# Display the chart\n",
    "plt.show()"
   ]
  },
  {
   "cell_type": "code",
   "execution_count": null,
   "metadata": {},
   "outputs": [],
   "source": [
    "#this shows all the bike statons in toronto\n",
    "import folium\n",
    "\n",
    "center_lat = df2.at[0, 'latitude']\n",
    "center_lon = df2.at[0, 'longitude']\n",
    "map_yelp = folium.Map(location=[center_lat, center_lon], zoom_start=12)\n",
    "\n",
    "for index, row in df2.iterrows():\n",
    "    lat = row['latitude']\n",
    "    lon = row['longitude']\n",
    "    folium.Marker([lat, lon]).add_to(map_yelp)\n",
    "\n",
    "\n",
    "\n",
    "map_yelp\n"
   ]
  },
  {
   "cell_type": "code",
   "execution_count": null,
   "metadata": {},
   "outputs": [],
   "source": [
    "import seaborn as sns\n",
    "import matplotlib.pyplot as plt\n",
    "\n",
    "fig, axes = plt.subplots(2, 1, figsize=(10, 10))\n",
    "\n",
    "# Histogram\n",
    "sns.histplot(Foursquare_df['distance'], ax=axes[0])\n",
    "axes[0].set_xlabel('Distance')\n",
    "axes[0].set_ylabel('Counts')\n",
    "axes[0].set_title('Distribution of Distance with Foursqaure')\n",
    "\n",
    "# Boxplot\n",
    "sns.boxplot(x=Foursquare_df['distance'], ax=axes[1])\n",
    "axes[1].set_xlabel('Distance')\n",
    "axes[1].set_ylabel('')\n",
    "\n",
    "plt.suptitle('The number POIs in Foursqaure and how far are they from each bike station', y=1.02)\n",
    "plt.tight_layout()\n",
    "plt.show()"
   ]
  },
  {
   "cell_type": "code",
   "execution_count": null,
   "metadata": {},
   "outputs": [],
   "source": []
  },
  {
   "cell_type": "markdown",
   "metadata": {},
   "source": [
    "# Stretch"
   ]
  },
  {
   "cell_type": "markdown",
   "metadata": {},
   "source": [
    "How can you turn the regression model into a classification model?"
   ]
  },
  {
   "cell_type": "code",
   "execution_count": null,
   "metadata": {},
   "outputs": [],
   "source": []
  }
 ],
 "metadata": {
  "kernelspec": {
   "display_name": "Python 3 (ipykernel)",
   "language": "python",
   "name": "python3"
  },
  "language_info": {
   "codemirror_mode": {
    "name": "ipython",
    "version": 3
   },
   "file_extension": ".py",
   "mimetype": "text/x-python",
   "name": "python",
   "nbconvert_exporter": "python",
   "pygments_lexer": "ipython3",
   "version": "3.10.9"
  }
 },
 "nbformat": 4,
 "nbformat_minor": 4
}
