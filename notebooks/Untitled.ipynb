{
 "cells": [
  {
   "cell_type": "code",
   "execution_count": null,
   "id": "7c93599f",
   "metadata": {},
   "outputs": [],
   "source": [
    "import os\n",
    "import pandas as pd \n",
    "yelp_key = os.environ.get('yelp_key')\n",
    "\n",
    "\n",
    "Yelp_columns = ['name', 'distance', 'location', 'POI_category']\n",
    "\n",
    "yelp_dataframe = pd.DataFrame()\n",
    "\n",
    "for n in range(len(df1)):\n",
    "    name = df1.at[n, 'name']\n",
    "    lat = df1.at[n, 'latitude']\n",
    "    long = df1.at[n, 'longitude']\n",
    "    free_bikes = df1.at[n, 'free_bikes']\n",
    "    print(\"Station Name:\", name, \"lat:\", lat, \"long:\", long, \"Number of free bikes are:\", free_bikes)\n",
    "    \n",
    "    url = f\"https://api.yelp.com/v3/businesses/search?latitude={lat}&longitude={long}&radius=1000&categories=breakfast_brunch%2Ccoffee%2Cgrocery&sort_by=best_match&limit=20\"\n",
    "\n",
    "    yelp_api = yelp_key\n",
    "    headers = {\n",
    "        \"accept\": \"application/json\",\n",
    "        \"Authorization\": f\"bearer {yelp_api}\"\n",
    "    }\n",
    "\n",
    "    response = requests.get(url, headers=headers)\n",
    "    data = response.json()\n",
    "\n",
    "    \n",
    "    #Saving the Raw Json file so we can call on it and use it instead of wasting API calls:\n",
    "    # Save all the YELP JSON data to a single file\n",
    "    with open('yelp.json', 'w') as json_file:\n",
    "        json.dump(data, json_file, indent=2)\n",
    "    \n",
    "    \n",
    "    # Extracting relevant information from the response data\n",
    "    yelp_POI = data['businesses']\n",
    "    yelp_df = pd.DataFrame(yelp_POI)\n",
    "    yelp_df['location'] = yelp_df['location'].apply(lambda loc: loc['address1'])\n",
    "    yelp_df['bike_station_name'] = name\n",
    "    yelp_df['Latitude'] = lat\n",
    "    yelp_df['Longitude'] = long\n",
    "    yelp_df['POI_category'] = yelp_df['categories'].apply(lambda x: x[0]['title'] if len(x) > 0 else \"\")\n",
    "    yelp_df['bike_station_coordinates'] = yelp_df['Latitude'].astype(str) + ', ' + yelp_df['Longitude'].astype(str)\n",
    "    \n",
    "    Yelp_selected_columns = yelp_df[Yelp_columns]\n",
    "    display(Yelp_selected_columns.head())\n",
    "    yelp_dataframe = pd.concat([yelp_dataframe, yelp_df])"
   ]
  }
 ],
 "metadata": {
  "kernelspec": {
   "display_name": "Python 3 (ipykernel)",
   "language": "python",
   "name": "python3"
  },
  "language_info": {
   "codemirror_mode": {
    "name": "ipython",
    "version": 3
   },
   "file_extension": ".py",
   "mimetype": "text/x-python",
   "name": "python",
   "nbconvert_exporter": "python",
   "pygments_lexer": "ipython3",
   "version": "3.10.9"
  }
 },
 "nbformat": 4,
 "nbformat_minor": 5
}
